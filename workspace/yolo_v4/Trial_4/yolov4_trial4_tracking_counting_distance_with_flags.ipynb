{
 "cells": [
  {
   "cell_type": "code",
   "execution_count": null,
   "metadata": {
    "id": "VZTpdqIBsILU"
   },
   "outputs": [],
   "source": [
    "# Check first whether GPU is on"
   ]
  },
  {
   "cell_type": "markdown",
   "metadata": {
    "id": "qLtg_h8827RJ"
   },
   "source": [
    "0. Prepare before training"
   ]
  },
  {
   "cell_type": "code",
   "execution_count": null,
   "metadata": {
    "id": "HJudiN4wsXQV"
   },
   "outputs": [],
   "source": [
    "# Connect Google Drive\n",
    "from google.colab import drive\n",
    "drive.mount('/content/gdrive')"
   ]
  },
  {
   "cell_type": "code",
   "execution_count": null,
   "metadata": {
    "id": "0OEDrewDsW27"
   },
   "outputs": [],
   "source": [
    "# path alias\n",
    "# The folder 'yolov4_deepsort' is the one folked from the github below\n",
    "# https://github.com/theAIGuysCode/yolov4-deepsort\n",
    "!ln -s /content/gdrive/MyDrive/Colab_Notebooks/yolov4_detection_deepsort /mydrive"
   ]
  },
  {
   "cell_type": "code",
   "execution_count": null,
   "metadata": {
    "id": "umZjGbInsWs3"
   },
   "outputs": [],
   "source": [
    "# check if NVIDIA GPU is enabled\n",
    "!nvidia-smi"
   ]
  },
  {
   "cell_type": "code",
   "execution_count": null,
   "metadata": {
    "id": "xnOppN_J3CdQ"
   },
   "outputs": [],
   "source": [
    "# Check CUDA version to bring the right cudnn file\n",
    "!/usr/local/cuda/bin/nvcc --version"
   ]
  },
  {
   "cell_type": "code",
   "execution_count": null,
   "metadata": {
    "id": "nvNvaErp3Cas"
   },
   "outputs": [],
   "source": [
    "# prepare the proper cudnn file in your google drive, and unzip it\n",
    "!tar -xzvf \"/content/gdrive/MyDrive/Colab_Notebooks/yolov3/cudnn-11.3-linux-x64-v8.2.0.53.tgz\" -C /usr/local"
   ]
  },
  {
   "cell_type": "code",
   "execution_count": null,
   "metadata": {
    "id": "RIm3F2Pw3V_H"
   },
   "outputs": [],
   "source": [
    "# Check whether unzip was completed well\n",
    "!cat /usr/local/cuda/include/cudnn_version.h | grep CUDNN_MAJOR -A 2"
   ]
  },
  {
   "cell_type": "code",
   "execution_count": null,
   "metadata": {
    "id": "1ioHIO7pHD2D"
   },
   "outputs": [],
   "source": [
    "# Install packages needed to train with GPU\n",
    "!pip install -r /mydrive/requirements-gpu.txt"
   ]
  },
  {
   "cell_type": "markdown",
   "metadata": {
    "id": "7R2uAM6LJofq"
   },
   "source": [
    "1. Copy the final weight that the training is completed"
   ]
  },
  {
   "cell_type": "code",
   "execution_count": null,
   "metadata": {
    "id": "n2KyHhpfJpBg"
   },
   "outputs": [],
   "source": [
    "!cp /content/gdrive/MyDrive/Colab_Notebooks/yolov4/main/backup/yolov4_trial3_training_final.weights ./data/yolov4_trial3_training_final.weights"
   ]
  },
  {
   "cell_type": "markdown",
   "metadata": {
    "id": "QMeU5jlXw1n0"
   },
   "source": [
    "2. Freeze and save the model"
   ]
  },
  {
   "cell_type": "code",
   "execution_count": null,
   "metadata": {
    "id": "4a33LTFDsWow"
   },
   "outputs": [],
   "source": [
    "# Freeze the model\n",
    "!python save_model.py --weights ./data/yolov4_trial3_training_final.weights --output ./checkpoints/yolov4-416 --input_size 416 --model yolov4"
   ]
  },
  {
   "cell_type": "markdown",
   "metadata": {
    "id": "Q9N_mPvXK8gW"
   },
   "source": [
    "3. Run DeepSORT with the frozen yolov4 model"
   ]
  },
  {
   "cell_type": "code",
   "execution_count": null,
   "metadata": {
    "id": "zE4FZKjwsWm1"
   },
   "outputs": [],
   "source": [
    "# Run Deepsort with YOLOv4\n",
    "# run Deepsort with YOLOv4 Object Detections as backbone (enable --info flag to see info about tracked objects)\n",
    "!python object_tracker.py --video ./data/video/video_for_test.mp4 --output ./outputs/results.mp4 --output_format DIVX --model yolov4 --dont_show --info"
   ]
  },
  {
   "cell_type": "markdown",
   "metadata": {
    "id": "0ezzO5qrxJu1"
   },
   "source": [
    "4. Apply tracking & counting & distance estimation after flags update (only for 2nd test video)"
   ]
  },
  {
   "cell_type": "code",
   "execution_count": null,
   "metadata": {
    "id": "CsKLPdkTsWfx"
   },
   "outputs": [],
   "source": [
    "# Counting X , Distance X (Just tracking using Deepsort)\n",
    "!python object_tracker_count_distance.py --video ./data/video/test_2nd.MOV --output ./outputs/results_no_count_no_distance.mp4 --output_format DIVX --model yolov4 --dont_show --info"
   ]
  },
  {
   "cell_type": "code",
   "execution_count": null,
   "metadata": {
    "id": "zpYPyQB0NC1P"
   },
   "outputs": [],
   "source": [
    "# Counting O, Distance X\n",
    "!python object_tracker_count_distance.py --video ./data/video/test_2nd.MOV --output ./outputs/results_yes_count_no_distance.mp4 --output_format DIVX --model yolov4 --count --dont_show --info"
   ]
  },
  {
   "cell_type": "code",
   "execution_count": null,
   "metadata": {
    "id": "8cya_pl9NCQV"
   },
   "outputs": [],
   "source": [
    "# Counting X, Distance O\n",
    "!python object_tracker_count_distance.py --video ./data/video/test_2nd.MOV --output ./outputs/results_no_count_yes_distance.mp4 --output_format DIVX --model yolov4 --distance --dont_show --info"
   ]
  },
  {
   "cell_type": "code",
   "execution_count": null,
   "metadata": {
    "id": "ubX4Ed7rNCOZ"
   },
   "outputs": [],
   "source": [
    "# Counting O, Distance O\n",
    "!python object_tracker_count_distance.py --video ./data/video/test_2nd.MOV --output ./outputs/results_yes_count_yes_distance.mp4 --output_format DIVX --model yolov4 --distance --count --dont_show --info"
   ]
  }
 ],
 "metadata": {
  "colab": {
   "authorship_tag": "ABX9TyPLQiBY2gzf/YHHRZpOo6dZ",
   "collapsed_sections": [],
   "name": "yolov4_trial4_and_5.ipynb",
   "provenance": [
    {
     "file_id": "17J4IDnb-99LHUKHFayLM4wnpxcyWOQq2",
     "timestamp": 1622455021455
    }
   ]
  },
  "kernelspec": {
   "display_name": "Python 3",
   "language": "python",
   "name": "python3"
  },
  "language_info": {
   "codemirror_mode": {
    "name": "ipython",
    "version": 3
   },
   "file_extension": ".py",
   "mimetype": "text/x-python",
   "name": "python",
   "nbconvert_exporter": "python",
   "pygments_lexer": "ipython3",
   "version": "3.8.5"
  }
 },
 "nbformat": 4,
 "nbformat_minor": 1
}