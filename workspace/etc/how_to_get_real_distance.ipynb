{
 "cells": [
  {
   "cell_type": "markdown",
   "metadata": {},
   "source": [
    "# 1. 컨셉"
   ]
  },
  {
   "cell_type": "markdown",
   "metadata": {},
   "source": [
    "* 카메라로부터의 원근 정도에 따라 픽셀 수가 동일하더라도 그에 대한 실제 거리는 다를 것이다.  \n",
    "* 그 변화하는 정도를 알 수 있다면, 픽셀에 대한 x,y 좌표값을 실제 거리로 환산 가능할 것이다.  \n",
    "* 실제 거리로 환산한 후, object와 카메라를 동일 3차원 좌표계에 위치시킨다.  \n",
    "* object는 지상에 있으므로 높이가 0이라고 가정, 그 좌표가 (x, y, 0)이 된다.  \n",
    "* 한편, 카메라의 좌표는 (0, -(거리의 폭), (카메라의 높이))가 된다.  \n",
    "  (참고: 카메라의 x축 위치는 이미지의 가로 길이의 중점과 같고, y축 위치는 이미지 최하단에서 도로의 폭만큼 떨어져 있으며, z축 위치는 건물 8층 높이다)  \n",
    "* 둘의 좌표에 유클리디안 거리를 적용하여 둘 간의 거리를 구할 수 있을 것이다.  "
   ]
  },
  {
   "cell_type": "markdown",
   "metadata": {},
   "source": [
    "# 2. 절차"
   ]
  },
  {
   "cell_type": "markdown",
   "metadata": {},
   "source": [
    "#### 1) 수식 만들기  \n",
    "#### 2) 실제 데이터 수집  \n",
    "#### 3) 대입하여 수식 내 계수 구하기  "
   ]
  },
  {
   "cell_type": "markdown",
   "metadata": {},
   "source": [
    "# 3. 절차별 상세 내용"
   ]
  },
  {
   "cell_type": "markdown",
   "metadata": {},
   "source": [
    "### 1) 수식 만들기"
   ]
  },
  {
   "cell_type": "markdown",
   "metadata": {},
   "source": [
    "* 픽셀의 x,y값이 있을 때, 각각에 scale factor를 곱한 후 bias를 더하여 실제 거리를 구하는 수식을 만들 수 있다.  \n",
    "이 때 scale factor ($s_y$)는 이미지에서 세로 방향으로 멀어짐에 따른 원근을 반영하기 위한 것으로, 픽셀의 y축 값에 대해 영향을 받는다.  \n",
    "이를 각각 1차식으로 표현하면 아래와 같다."
   ]
  },
  {
   "cell_type": "markdown",
   "metadata": {},
   "source": [
    "$s_y = a_y * p_y + b_y$  ... 1)    \n",
    "$x = s_y * p_x + b_m$  ... 2)  \n",
    "$y = s_y * p_y + b_n$  (= $a_y*p_y^2 + b_y*p_y + b_n$)  ...3)\n",
    "\n",
    "($s_y$: scale factor로, 픽셀의 y축 값 ($p_y$)에 대한 일차식의 형태이다.  \n",
    " $x, y$: 미터 단위로 환산된 실제 x축, y축 방향의 거리이다.  \n",
    " $p_x, p_y$: 이미지 최하단의 중점을 원점으로 하는 좌표계로 변환된 x,y의 픽셀값이며, 0에서 1 사이의 값을 가진다.  \n",
    " $b_m, b_n$: bias 값)"
   ]
  },
  {
   "cell_type": "markdown",
   "metadata": {},
   "source": [
    "* 위의 식에서 구해야 하는 값은 $a_y, b_y, b_m, b_n$ 이다.\n",
    "* 그런데 이미지의 원점 (($p_x, p_y$) = (0, 0))에서는 실제 거리도 0이므로 $b_m$=$b_n$=0 이다.  \n",
    "* 따라서 $a_y$와 $b_y$ 두 개의 값만 구하면 되며, 이를 위해 3개의 물체에 대해 픽셀 거리와 실제 거리를 실측하였다.  \n",
    "* 도로 (이미지와 카메라 사이에 있음)의 폭과 카메라의 높이 또한 실측하였다.  \n",
    "  (레이저 측정기 사용)"
   ]
  },
  {
   "cell_type": "markdown",
   "metadata": {},
   "source": [
    "### 2) 실제 데이터 수집"
   ]
  },
  {
   "cell_type": "markdown",
   "metadata": {},
   "source": [
    "* 실측 결과, 3개 물체의 픽셀 좌표 및 실제 거리는 아래와 같았다.  \n",
    "  (pixels의 각 원소는 각 물체 양 끝점의 y좌표로, 둘의 차이는 물체의 y축 방향으로의 크기와 동일하다. 그리고 그 각각의 실제 길이는 real_distances의 원소와 대응된다.)\n",
    "\n",
    "    - pixels = [[0.2166665, 0.3374995], [0.5819445, 0.6611115], [0.877778, 0.902778]]\n",
    "    - real_distances = [5.21, 7.244, 4.991]  \n",
    "    \n",
    "    \n",
    "* 한편, 도로의 폭과 카메라의 높이는 아래와 같았다. (미터 단위)\n",
    "\n",
    "    - 도로의 폭 = 16.579  \n",
    "    - 카메라의 높이 = 24.749 \n"
   ]
  },
  {
   "cell_type": "markdown",
   "metadata": {},
   "source": [
    "### 3) 대입하여 수식 내 계수 구하기"
   ]
  },
  {
   "cell_type": "markdown",
   "metadata": {},
   "source": [
    "* 리스트 pixels의 각 원소들 내 두 값을 수식 3)에 대입한 후 그 차이를 구하는 세 개의 식을 만들 수 있다.  \n",
    "* 만들어진 세 개의 식으로부터 유사 역행렬 계산을 통하여 행렬 v ([$a_y, b_y$])를 구할 수 있으며, 그 과정은 아래와 같다.\n",
    "\n",
    "```\n",
    "Av = b\n",
    "```\n",
    "(A: 위 세 개의 식을 통해 얻은 값들의 행렬로, 3\\*2 행렬이다.  \n",
    " v: $a_y, b_y$를 원소로 가지며, 2\\*1 행렬이다.  \n",
    " b: 3개의 실제 거리값으로 이루어져 있으며, 3\\*1 행렬이다)"
   ]
  },
  {
   "cell_type": "code",
   "execution_count": 9,
   "metadata": {},
   "outputs": [
    {
     "data": {
      "text/plain": [
       "array([86.29433, -6.45561])"
      ]
     },
     "execution_count": 9,
     "metadata": {},
     "output_type": "execute_result"
    }
   ],
   "source": [
    "import numpy as np\n",
    "\n",
    "# 계산 과정\n",
    "pixels = [[0.2166665, 0.3374995], [0.5819445, 0.6611115], [0.877778, 0.902778]]\n",
    "real_distances = [5.21, 7.244, 4.991]\n",
    "\n",
    "# A 구하기\n",
    "A = ([pixels[0][1]**2 - pixels[0][0]**2, pixels[0][1] - pixels[0][0]],\n",
    "     [pixels[1][1]**2 - pixels[1][0]**2, pixels[1][1] - pixels[1][0]],\n",
    "     [pixels[2][1]**2 - pixels[2][0]**2, pixels[2][1] - pixels[2][0]])\n",
    "A = np.array(A)\n",
    "\n",
    "# b 구하기\n",
    "b = real_distances\n",
    "\n",
    "# A_inv (유사 역행렬) 구하기\n",
    "A_inv = np.linalg.pinv(A)\n",
    "\n",
    "# v 구하기\n",
    "v = np.dot(A_inv, b)\n",
    "v = np.array([round(each, 5) for each in v])\n",
    "v"
   ]
  },
  {
   "cell_type": "markdown",
   "metadata": {},
   "source": [
    "# 4. 결론"
   ]
  },
  {
   "cell_type": "markdown",
   "metadata": {},
   "source": [
    "* $a_y$ = 86.29433\n",
    "* $b_y$ = -6.45561\n",
    "* dst_road = 16.579  (이미지와 카메라 사이 거리의 폭)\n",
    "* height_camera = 24.749 (카메라의 높이)"
   ]
  },
  {
   "cell_type": "markdown",
   "metadata": {},
   "source": [
    "따라서 $s_y, x, y$ 및 카메라의 좌표는 아래와 같다.\n",
    "\n",
    "$s_y = 86.29433 * p_y -6.45561$  \n",
    "$x = s_y * p_x$  \n",
    "$y = s_y * p_y$  \n",
    "카메라의 좌표 = (0, -16.579, 24.749)"
   ]
  }
 ],
 "metadata": {
  "kernelspec": {
   "display_name": "Python 3",
   "language": "python",
   "name": "python3"
  },
  "language_info": {
   "codemirror_mode": {
    "name": "ipython",
    "version": 3
   },
   "file_extension": ".py",
   "mimetype": "text/x-python",
   "name": "python",
   "nbconvert_exporter": "python",
   "pygments_lexer": "ipython3",
   "version": "3.8.5"
  }
 },
 "nbformat": 4,
 "nbformat_minor": 4
}
